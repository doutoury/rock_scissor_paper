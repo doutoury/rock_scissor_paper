{
 "cells": [
  {
   "cell_type": "code",
   "execution_count": 1,
   "metadata": {},
   "outputs": [
    {
     "name": "stdout",
     "output_type": "stream",
     "text": [
      "PIL 라이브러리 import 완료!\n"
     ]
    }
   ],
   "source": [
    "from PIL import Image\n",
    "import os, glob\n",
    "print(\"PIL 라이브러리 import 완료!\")\n",
    "\n",
    "import numpy as np\n",
    "\n",
    "import matplotlib.pyplot as plt\n",
    "\n",
    "import tensorflow as tf\n",
    "from tensorflow import keras\n"
   ]
  },
  {
   "cell_type": "code",
   "execution_count": 2,
   "metadata": {},
   "outputs": [
    {
     "name": "stdout",
     "output_type": "stream",
     "text": [
      "이미지 디렉토리 경로:  /home/ssac29/aiffel/friends_list/rock_scissor_paper_Hong_gahee/scissor\n",
      "가위 이미지 resize 완료!\n",
      "이미지 디렉토리 경로:  /home/ssac29/aiffel/friends_list/rock_scissor_paper_Kim_Yonguk/scissor\n",
      "가위 이미지 resize 완료!\n",
      "이미지 디렉토리 경로:  /home/ssac29/aiffel/friends_list/rock_scissor_paper_Jeong_Hyunjae/scissor\n",
      "가위 이미지 resize 완료!\n",
      "이미지 디렉토리 경로:  /home/ssac29/aiffel/friends_list/rock_scissor_paper_Kim_Bogeoung/scissor\n",
      "가위 이미지 resize 완료!\n",
      "이미지 디렉토리 경로:  /home/ssac29/aiffel/friends_list/rock_scissor_paper_Kim_Jeongsu/scissor\n",
      "가위 이미지 resize 완료!\n",
      "이미지 디렉토리 경로:  /home/ssac29/aiffel/friends_list/rock_scissor_paper_Kim_jino/scissor\n",
      "가위 이미지 resize 완료!\n",
      "이미지 디렉토리 경로:  /home/ssac29/aiffel/friends_list/rock_scissor_paper_Ko_Eunchae/scissor\n",
      "가위 이미지 resize 완료!\n",
      "이미지 디렉토리 경로:  /home/ssac29/aiffel/friends_list/rock_scissor_paper_Song_yongho/scissor\n",
      "가위 이미지 resize 완료!\n"
     ]
    }
   ],
   "source": [
    "# 가위 이미지가 저장된 디렉토리 아래의 모든 jpg 파일을 읽기\n",
    "\n",
    "folder_list_dir = os.getenv(\"HOME\") + \"/aiffel/friends_list/\"\n",
    "folder_list = os.listdir(folder_list_dir)\n",
    "\n",
    "for i in range(len(folder_list)):\n",
    "    image_dir_path = folder_list_dir + folder_list[i] + \"/scissor\"\n",
    "    print(\"이미지 디렉토리 경로: \", image_dir_path)\n",
    "\n",
    "    images = glob.glob(image_dir_path + \"/*.jpg\")\n",
    "\n",
    "    # 파일마다 모두 28x28사이즈로 바꾸어 저장\n",
    "    target_size = (28,28)\n",
    "    for img in images:\n",
    "        old_img = Image.open(img)\n",
    "    \n",
    "        new_img = old_img.resize(target_size, Image.ANTIALIAS)\n",
    "        new_img.save(img, \"JPEG\")\n",
    "    \n",
    "    print(\"가위 이미지 resize 완료!\")\n",
    "    "
   ]
  },
  {
   "cell_type": "code",
   "execution_count": 3,
   "metadata": {},
   "outputs": [
    {
     "name": "stdout",
     "output_type": "stream",
     "text": [
      "이미지 디렉토리 경로:  /home/ssac29/aiffel/friends_list/rock_scissor_paper_Hong_gahee/rock\n",
      "바위 이미지 resize 완료!\n",
      "이미지 디렉토리 경로:  /home/ssac29/aiffel/friends_list/rock_scissor_paper_Kim_Yonguk/rock\n",
      "바위 이미지 resize 완료!\n",
      "이미지 디렉토리 경로:  /home/ssac29/aiffel/friends_list/rock_scissor_paper_Jeong_Hyunjae/rock\n",
      "바위 이미지 resize 완료!\n",
      "이미지 디렉토리 경로:  /home/ssac29/aiffel/friends_list/rock_scissor_paper_Kim_Bogeoung/rock\n",
      "바위 이미지 resize 완료!\n",
      "이미지 디렉토리 경로:  /home/ssac29/aiffel/friends_list/rock_scissor_paper_Kim_Jeongsu/rock\n",
      "바위 이미지 resize 완료!\n",
      "이미지 디렉토리 경로:  /home/ssac29/aiffel/friends_list/rock_scissor_paper_Kim_jino/rock\n",
      "바위 이미지 resize 완료!\n",
      "이미지 디렉토리 경로:  /home/ssac29/aiffel/friends_list/rock_scissor_paper_Ko_Eunchae/rock\n",
      "바위 이미지 resize 완료!\n",
      "이미지 디렉토리 경로:  /home/ssac29/aiffel/friends_list/rock_scissor_paper_Song_yongho/rock\n",
      "바위 이미지 resize 완료!\n"
     ]
    }
   ],
   "source": [
    "# 바위 이미지가 저장된 디렉토리 아래의 모든 jpg 파일을 읽기\n",
    "\n",
    "folder_list_dir = os.getenv(\"HOME\") + \"/aiffel/friends_list/\"\n",
    "folder_list = os.listdir(folder_list_dir)\n",
    "\n",
    "for i in range(len(folder_list)):\n",
    "    image_dir_path = folder_list_dir + folder_list[i] + \"/rock\"\n",
    "    print(\"이미지 디렉토리 경로: \", image_dir_path)\n",
    "\n",
    "    images = glob.glob(image_dir_path + \"/*.jpg\")\n",
    "\n",
    "    # 파일마다 모두 28x28사이즈로 바꾸어 저장\n",
    "    target_size = (28,28)\n",
    "    for img in images:\n",
    "        old_img = Image.open(img)\n",
    "    \n",
    "        new_img = old_img.resize(target_size, Image.ANTIALIAS)\n",
    "        new_img.save(img, \"JPEG\")\n",
    "    \n",
    "    print(\"바위 이미지 resize 완료!\")\n",
    "    "
   ]
  },
  {
   "cell_type": "code",
   "execution_count": 4,
   "metadata": {},
   "outputs": [
    {
     "name": "stdout",
     "output_type": "stream",
     "text": [
      "이미지 디렉토리 경로:  /home/ssac29/aiffel/friends_list/rock_scissor_paper_Hong_gahee/paper\n",
      "보 이미지 resize 완료!\n",
      "이미지 디렉토리 경로:  /home/ssac29/aiffel/friends_list/rock_scissor_paper_Kim_Yonguk/paper\n",
      "보 이미지 resize 완료!\n",
      "이미지 디렉토리 경로:  /home/ssac29/aiffel/friends_list/rock_scissor_paper_Jeong_Hyunjae/paper\n",
      "보 이미지 resize 완료!\n",
      "이미지 디렉토리 경로:  /home/ssac29/aiffel/friends_list/rock_scissor_paper_Kim_Bogeoung/paper\n",
      "보 이미지 resize 완료!\n",
      "이미지 디렉토리 경로:  /home/ssac29/aiffel/friends_list/rock_scissor_paper_Kim_Jeongsu/paper\n",
      "보 이미지 resize 완료!\n",
      "이미지 디렉토리 경로:  /home/ssac29/aiffel/friends_list/rock_scissor_paper_Kim_jino/paper\n",
      "보 이미지 resize 완료!\n",
      "이미지 디렉토리 경로:  /home/ssac29/aiffel/friends_list/rock_scissor_paper_Ko_Eunchae/paper\n",
      "보 이미지 resize 완료!\n",
      "이미지 디렉토리 경로:  /home/ssac29/aiffel/friends_list/rock_scissor_paper_Song_yongho/paper\n",
      "보 이미지 resize 완료!\n"
     ]
    }
   ],
   "source": [
    "# 보 이미지가 저장된 디렉토리 아래의 모든 jpg 파일을 읽기\n",
    "\n",
    "folder_list_dir = os.getenv(\"HOME\") + \"/aiffel/friends_list/\"\n",
    "folder_list = os.listdir(folder_list_dir)\n",
    "\n",
    "for i in range(len(folder_list)):\n",
    "    image_dir_path = folder_list_dir + folder_list[i] + \"/paper\"\n",
    "    print(\"이미지 디렉토리 경로: \", image_dir_path)\n",
    "\n",
    "    images = glob.glob(image_dir_path + \"/*.jpg\")\n",
    "\n",
    "    # 파일마다 모두 28x28사이즈로 바꾸어 저장\n",
    "    target_size = (28,28)\n",
    "    for img in images:\n",
    "        old_img = Image.open(img)\n",
    "    \n",
    "        new_img = old_img.resize(target_size, Image.ANTIALIAS)\n",
    "        new_img.save(img, \"JPEG\")\n",
    "    \n",
    "    print(\"보 이미지 resize 완료!\")\n",
    "    "
   ]
  },
  {
   "cell_type": "code",
   "execution_count": 5,
   "metadata": {},
   "outputs": [],
   "source": [
    "# 특정 디렉토리에 있는 이미지 파일의 픽셀데이터 행렬로 불러오는 함수 작성\n",
    "\n",
    "def load_data(img_path):\n",
    "    # 가위 : 0, 바위 : 1, 보 : 2\n",
    "    number_of_data=300   # 가위바위보 이미지 개수 총합\n",
    "    img_size=28\n",
    "    color=3\n",
    "    #이미지 데이터와 라벨(가위 : 0, 바위 : 1, 보 : 2) 데이터를 담을 행렬(matrix) 영역을 생성합니다.\n",
    "    imgs=np.zeros(number_of_data*img_size*img_size*color,dtype=np.int32).reshape(number_of_data,img_size,img_size,color)\n",
    "    labels=np.zeros(number_of_data,dtype=np.int32)\n",
    "\n",
    "    idx=0\n",
    "    for file in glob.iglob(img_path+'/scissor/*.jpg'):\n",
    "        img = np.array(Image.open(file),dtype=np.int32)\n",
    "        imgs[idx,:,:,:]=img    # 데이터 영역에 이미지 행렬을 복사\n",
    "        labels[idx]=0   # 가위 : 0\n",
    "        idx=idx+1\n",
    "\n",
    "    for file in glob.iglob(img_path+'/rock/*.jpg'):\n",
    "        img = np.array(Image.open(file),dtype=np.int32)\n",
    "        imgs[idx,:,:,:]=img    # 데이터 영역에 이미지 행렬을 복사\n",
    "        labels[idx]=1   # 바위 : 1\n",
    "        idx=idx+1       \n",
    "    \n",
    "    for file in glob.iglob(img_path+'/paper/*.jpg'):\n",
    "        img = np.array(Image.open(file),dtype=np.int32)\n",
    "        imgs[idx,:,:,:]=img    # 데이터 영역에 이미지 행렬을 복사\n",
    "        labels[idx]=2   # 보 : 2\n",
    "        idx=idx+1\n",
    "\n",
    "    return imgs, labels\n"
   ]
  },
  {
   "cell_type": "code",
   "execution_count": 6,
   "metadata": {},
   "outputs": [
    {
     "name": "stdout",
     "output_type": "stream",
     "text": [
      "8  명 \n",
      " ['rock_scissor_paper_Hong_gahee', 'rock_scissor_paper_Kim_Yonguk', 'rock_scissor_paper_Jeong_Hyunjae', 'rock_scissor_paper_Kim_Bogeoung', 'rock_scissor_paper_Kim_Jeongsu', 'rock_scissor_paper_Kim_jino', 'rock_scissor_paper_Ko_Eunchae', 'rock_scissor_paper_Song_yongho'] \n",
      "\n",
      "\n",
      "0  번째 사람 feature data shape :  (1, 300, 28, 28, 3)\n",
      "0  번째 사람 label data shape :  (1, 300)\n",
      "1  번째 사람 feature data shape :  (2, 300, 28, 28, 3)\n",
      "1  번째 사람 label data shape :  (2, 300)\n",
      "2  번째 사람 feature data shape :  (3, 300, 28, 28, 3)\n",
      "2  번째 사람 label data shape :  (3, 300)\n",
      "3  번째 사람 feature data shape :  (4, 300, 28, 28, 3)\n",
      "3  번째 사람 label data shape :  (4, 300)\n",
      "4  번째 사람 feature data shape :  (5, 300, 28, 28, 3)\n",
      "4  번째 사람 label data shape :  (5, 300)\n",
      "5  번째 사람 feature data shape :  (6, 300, 28, 28, 3)\n",
      "5  번째 사람 label data shape :  (6, 300)\n",
      "6  번째 사람 feature data shape :  (7, 300, 28, 28, 3)\n",
      "6  번째 사람 label data shape :  (7, 300)\n",
      "7  번째 사람 feature data shape :  (8, 300, 28, 28, 3)\n",
      "7  번째 사람 label data shape :  (8, 300)\n",
      "\n",
      "\n",
      "x_train.shape :  (1500, 28, 28, 3)\n",
      "y_train.shape :  (1500,)\n",
      "x_test.shape :  (900, 28, 28, 3)\n",
      "y_test.shape :  (900,)\n"
     ]
    }
   ],
   "source": [
    "# 데이터셋 모으기\n",
    "\n",
    "# 폴더별로 돌면서 load_data()결과 누적\n",
    "\n",
    "folder_list_dir = os.getenv(\"HOME\") + \"/aiffel/friends_list/\"\n",
    "folder_list = os.listdir(folder_list_dir)\n",
    "print(len(folder_list), \" 명\", \"\\n\" , folder_list, \"\\n\\n\")\n",
    "\n",
    "x_data, y_data = [], []\n",
    "for i in range(len(folder_list)):\n",
    "    image_path = folder_list_dir + folder_list[i]\n",
    "    # 각 사람들 폴더를 돌며 트레인셋 모음 생성\n",
    "    x_data.append(load_data(image_path)[0])\n",
    "    print(i, \" 번째 사람 feature data shape : \", np.array(x_data).shape)\n",
    "    y_data.append(load_data(image_path)[1])\n",
    "    print(i, \" 번째 사람 label data shape : \", np.array(y_data).shape)\n",
    "\n",
    "\n",
    "# 데이터셋 모음으로부터 트레이닝셋, 테스트셋 나누기  (일단 랜덤말고 순서대로 정해진 갯수만큼씩 나누기)\n",
    "\n",
    "x_train = x_data[0:5]\n",
    "y_train = y_data[0:5]\n",
    "\n",
    "x_test = x_data[5:8]\n",
    "y_test = y_data[5:8]\n",
    "\n",
    "print (\"\\n\")\n",
    "\n",
    "\n",
    "# np.squeeze 이용하여 트레인셋과 테스트셋 각각 데이터 병합\n",
    "\n",
    "x_train = np.reshape(np.array(x_train), (1500, 28, 28, 3))\n",
    "print(\"x_train.shape : \", x_train.shape)\n",
    "y_train = np.reshape(np.array(y_train), (1500))\n",
    "print(\"y_train.shape : \", y_train.shape)\n",
    "\n",
    "x_test = np.reshape(np.array(x_test), (900, 28, 28, 3))\n",
    "print(\"x_test.shape : \", x_test.shape)\n",
    "y_test = np.reshape(np.array(y_test), (900))\n",
    "print(\"y_test.shape : \", y_test.shape)\n",
    "\n",
    "x_train_norm = x_train/255.0   # 입력은 0~1 사이의 값으로 정규화"
   ]
  },
  {
   "cell_type": "code",
   "execution_count": 7,
   "metadata": {
    "scrolled": true
   },
   "outputs": [
    {
     "name": "stdout",
     "output_type": "stream",
     "text": [
      "라벨:  2\n",
      "[[[204 202 207]\n",
      "  [194 192 197]\n",
      "  [189 188 193]\n",
      "  ...\n",
      "  [188 203 222]\n",
      "  [185 202 220]\n",
      "  [183 200 220]]\n",
      "\n",
      " [[202 200 203]\n",
      "  [194 192 197]\n",
      "  [191 189 194]\n",
      "  ...\n",
      "  [186 201 220]\n",
      "  [184 199 218]\n",
      "  [181 198 218]]\n",
      "\n",
      " [[206 204 207]\n",
      "  [201 199 202]\n",
      "  [200 198 201]\n",
      "  ...\n",
      "  [186 199 216]\n",
      "  [182 197 216]\n",
      "  [179 196 214]]\n",
      "\n",
      " ...\n",
      "\n",
      " [[  0   1   4]\n",
      "  [  5   6  10]\n",
      "  [ 13  14  18]\n",
      "  ...\n",
      "  [131 129 134]\n",
      "  [125 122 129]\n",
      "  [126 123 130]]\n",
      "\n",
      " [[  0   1   6]\n",
      "  [  2   5  10]\n",
      "  [ 11  12  16]\n",
      "  ...\n",
      "  [126 124 129]\n",
      "  [120 118 123]\n",
      "  [121 118 125]]\n",
      "\n",
      " [[  0   1   6]\n",
      "  [  0   0   5]\n",
      "  [  6   7  11]\n",
      "  ...\n",
      "  [125 120 126]\n",
      "  [117 115 120]\n",
      "  [117 115 120]]]\n"
     ]
    },
    {
     "data": {
      "image/png": "[encoded data removed]",
      "text/plain": [
       "<Figure size 432x288 with 1 Axes>"
      ]
     },
     "metadata": {
      "needs_background": "light"
     },
     "output_type": "display_data"
    }
   ],
   "source": [
    "# 데이터 확인\n",
    "\n",
    "plt.imshow(x_train[500])\n",
    "print('라벨: ', y_train[500])\n",
    "print(x_train[500])\n"
   ]
  },
  {
   "cell_type": "code",
   "execution_count": 28,
   "metadata": {},
   "outputs": [
    {
     "name": "stdout",
     "output_type": "stream",
     "text": [
      "Model: \"sequential_5\"\n",
      "_________________________________________________________________\n",
      "Layer (type)                 Output Shape              Param #   \n",
      "=================================================================\n",
      "conv2d_10 (Conv2D)           (None, 26, 26, 16)        448       \n",
      "_________________________________________________________________\n",
      "max_pooling2d_10 (MaxPooling (None, 13, 13, 16)        0         \n",
      "_________________________________________________________________\n",
      "conv2d_11 (Conv2D)           (None, 11, 11, 32)        4640      \n",
      "_________________________________________________________________\n",
      "max_pooling2d_11 (MaxPooling (None, 5, 5, 32)          0         \n",
      "_________________________________________________________________\n",
      "flatten_5 (Flatten)          (None, 800)               0         \n",
      "_________________________________________________________________\n",
      "dense_10 (Dense)             (None, 64)                51264     \n",
      "_________________________________________________________________\n",
      "dense_11 (Dense)             (None, 3)                 195       \n",
      "=================================================================\n",
      "Total params: 56,547\n",
      "Trainable params: 56,547\n",
      "Non-trainable params: 0\n",
      "_________________________________________________________________\n"
     ]
    }
   ],
   "source": [
    "# 학습모델 생성\n",
    "\n",
    "n_channel_1=16\n",
    "n_channel_2=32\n",
    "n_dense=64\n",
    "n_train_epoch=20\n",
    "\n",
    "model=keras.models.Sequential()\n",
    "model.add(keras.layers.Conv2D(n_channel_1, (3,3), activation='relu', input_shape=(28,28,3)))\n",
    "model.add(keras.layers.MaxPool2D(2,2))\n",
    "model.add(keras.layers.Conv2D(n_channel_2, (3,3), activation='relu'))\n",
    "model.add(keras.layers.MaxPooling2D((2,2)))\n",
    "model.add(keras.layers.Flatten())\n",
    "model.add(keras.layers.Dense(n_dense, activation='relu'))\n",
    "model.add(keras.layers.Dense(3, activation='softmax'))\n",
    "\n",
    "model.summary()"
   ]
  },
  {
   "cell_type": "code",
   "execution_count": 29,
   "metadata": {
    "scrolled": true
   },
   "outputs": [
    {
     "name": "stdout",
     "output_type": "stream",
     "text": [
      "Epoch 1/20\n",
      "47/47 [==============================] - 0s 2ms/step - loss: 0.9823 - accuracy: 0.5333\n",
      "Epoch 2/20\n",
      "47/47 [==============================] - 0s 2ms/step - loss: 0.6709 - accuracy: 0.7407\n",
      "Epoch 3/20\n",
      "47/47 [==============================] - 0s 2ms/step - loss: 0.4358 - accuracy: 0.8360\n",
      "Epoch 4/20\n",
      "47/47 [==============================] - 0s 2ms/step - loss: 0.3115 - accuracy: 0.8867\n",
      "Epoch 5/20\n",
      "47/47 [==============================] - 0s 2ms/step - loss: 0.2464 - accuracy: 0.9180\n",
      "Epoch 6/20\n",
      "47/47 [==============================] - 0s 2ms/step - loss: 0.1762 - accuracy: 0.9460\n",
      "Epoch 7/20\n",
      "47/47 [==============================] - 0s 2ms/step - loss: 0.1530 - accuracy: 0.9513\n",
      "Epoch 8/20\n",
      "47/47 [==============================] - 0s 2ms/step - loss: 0.1068 - accuracy: 0.9720\n",
      "Epoch 9/20\n",
      "47/47 [==============================] - 0s 2ms/step - loss: 0.0860 - accuracy: 0.9800\n",
      "Epoch 10/20\n",
      "47/47 [==============================] - 0s 2ms/step - loss: 0.0757 - accuracy: 0.9813\n",
      "Epoch 11/20\n",
      "47/47 [==============================] - 0s 2ms/step - loss: 0.0597 - accuracy: 0.9840\n",
      "Epoch 12/20\n",
      "47/47 [==============================] - 0s 2ms/step - loss: 0.0439 - accuracy: 0.9893\n",
      "Epoch 13/20\n",
      "47/47 [==============================] - 0s 2ms/step - loss: 0.0393 - accuracy: 0.9920\n",
      "Epoch 14/20\n",
      "47/47 [==============================] - 0s 2ms/step - loss: 0.0272 - accuracy: 0.9947\n",
      "Epoch 15/20\n",
      "47/47 [==============================] - 0s 2ms/step - loss: 0.0239 - accuracy: 0.9967\n",
      "Epoch 16/20\n",
      "47/47 [==============================] - 0s 2ms/step - loss: 0.0202 - accuracy: 0.9960\n",
      "Epoch 17/20\n",
      "47/47 [==============================] - 0s 2ms/step - loss: 0.0151 - accuracy: 0.9993\n",
      "Epoch 18/20\n",
      "47/47 [==============================] - 0s 2ms/step - loss: 0.0115 - accuracy: 0.9987\n",
      "Epoch 19/20\n",
      "47/47 [==============================] - 0s 2ms/step - loss: 0.0102 - accuracy: 0.9993\n",
      "Epoch 20/20\n",
      "47/47 [==============================] - 0s 2ms/step - loss: 0.0125 - accuracy: 0.9973\n"
     ]
    },
    {
     "data": {
      "text/plain": [
       "<tensorflow.python.keras.callbacks.History at 0x7f2980362b50>"
      ]
     },
     "execution_count": 29,
     "metadata": {},
     "output_type": "execute_result"
    }
   ],
   "source": [
    "# 모델 컴파일\n",
    "model.compile(optimizer='adam',\n",
    "             loss='sparse_categorical_crossentropy',\n",
    "             metrics=['accuracy'])\n",
    "\n",
    "# 모델 훈련\n",
    "model.fit(x_train_norm, y_train, epochs=n_train_epoch)\n"
   ]
  },
  {
   "cell_type": "code",
   "execution_count": 30,
   "metadata": {
    "scrolled": true
   },
   "outputs": [
    {
     "name": "stdout",
     "output_type": "stream",
     "text": [
      "라벨:  0\n"
     ]
    },
    {
     "data": {
      "image/png": "[encoded data removed]",
      "text/plain": [
       "<Figure size 432x288 with 1 Axes>"
      ]
     },
     "metadata": {
      "needs_background": "light"
     },
     "output_type": "display_data"
    }
   ],
   "source": [
    "plt.imshow(x_test[0])\n",
    "print('라벨: ', y_test[0])"
   ]
  },
  {
   "cell_type": "code",
   "execution_count": 31,
   "metadata": {
    "scrolled": true
   },
   "outputs": [
    {
     "name": "stdout",
     "output_type": "stream",
     "text": [
      "29/29 - 0s - loss: 994.2133 - accuracy: 0.4289\n",
      "test_loss: 994.2132568359375 \n",
      "test_accuracy: 0.42888888716697693\n"
     ]
    }
   ],
   "source": [
    "# 모델 평가\n",
    "test_loss, test_accuracy = model.evaluate(x_test, y_test, verbose=2)\n",
    "print(\"test_loss: {} \".format(test_loss))\n",
    "print(\"test_accuracy: {}\".format(test_accuracy))"
   ]
  }
 ],
 "metadata": {
  "kernelspec": {
   "display_name": "Python 3",
   "language": "python",
   "name": "python3"
  },
  "language_info": {
   "codemirror_mode": {
    "name": "ipython",
    "version": 3
   },
   "file_extension": ".py",
   "mimetype": "text/x-python",
   "name": "python",
   "nbconvert_exporter": "python",
   "pygments_lexer": "ipython3",
   "version": "3.7.9"
  }
 },
 "nbformat": 4,
 "nbformat_minor": 4
}
