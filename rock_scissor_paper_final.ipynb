{
 "cells": [
  {
   "cell_type": "code",
   "execution_count": 1,
   "metadata": {},
   "outputs": [
    {
     "name": "stdout",
     "output_type": "stream",
     "text": [
      "PIL 라이브러리 import 완료!\n"
     ]
    }
   ],
   "source": [
    "from PIL import Image\n",
    "import os, glob\n",
    "print(\"PIL 라이브러리 import 완료!\")\n",
    "\n",
    "import numpy as np\n",
    "\n",
    "import matplotlib.pyplot as plt\n",
    "\n",
    "import tensorflow as tf\n",
    "from tensorflow import keras\n"
   ]
  },
  {
   "cell_type": "code",
   "execution_count": 2,
   "metadata": {},
   "outputs": [
    {
     "name": "stdout",
     "output_type": "stream",
     "text": [
      "이미지 디렉토리 경로:  /home/ssac29/aiffel/friends_list/rock_scissor_paper_Hong_gahee/scissor\n",
      "가위 이미지 resize 완료!\n",
      "이미지 디렉토리 경로:  /home/ssac29/aiffel/friends_list/rock_scissor_paper_Kim_Yonguk/scissor\n",
      "가위 이미지 resize 완료!\n",
      "이미지 디렉토리 경로:  /home/ssac29/aiffel/friends_list/rock_scissor_paper_Jeong_Hyunjae/scissor\n",
      "가위 이미지 resize 완료!\n",
      "이미지 디렉토리 경로:  /home/ssac29/aiffel/friends_list/rock_scissor_paper_Kim_Bogeoung/scissor\n",
      "가위 이미지 resize 완료!\n",
      "이미지 디렉토리 경로:  /home/ssac29/aiffel/friends_list/rock_scissor_paper_Kim_Jeongsu/scissor\n",
      "가위 이미지 resize 완료!\n",
      "이미지 디렉토리 경로:  /home/ssac29/aiffel/friends_list/rock_scissor_paper_Kim_jino/scissor\n",
      "가위 이미지 resize 완료!\n",
      "이미지 디렉토리 경로:  /home/ssac29/aiffel/friends_list/rock_scissor_paper_Ko_Eunchae/scissor\n",
      "가위 이미지 resize 완료!\n",
      "이미지 디렉토리 경로:  /home/ssac29/aiffel/friends_list/rock_scissor_paper_Song_yongho/scissor\n",
      "가위 이미지 resize 완료!\n"
     ]
    }
   ],
   "source": [
    "# 가위 이미지가 저장된 디렉토리 아래의 모든 jpg 파일을 읽기\n",
    "\n",
    "folder_list_dir = os.getenv(\"HOME\") + \"/aiffel/friends_list/\"\n",
    "folder_list = os.listdir(folder_list_dir)\n",
    "\n",
    "for i in range(len(folder_list)):\n",
    "    image_dir_path = folder_list_dir + folder_list[i] + \"/scissor\"\n",
    "    print(\"이미지 디렉토리 경로: \", image_dir_path)\n",
    "\n",
    "    images = glob.glob(image_dir_path + \"/*.jpg\")\n",
    "\n",
    "    # 파일마다 모두 28x28사이즈로 바꾸어 저장\n",
    "    target_size = (28,28)\n",
    "    for img in images:\n",
    "        old_img = Image.open(img)\n",
    "    \n",
    "        new_img = old_img.resize(target_size, Image.ANTIALIAS)\n",
    "        new_img.save(img, \"JPEG\")\n",
    "    \n",
    "    print(\"가위 이미지 resize 완료!\")\n",
    "    "
   ]
  },
  {
   "cell_type": "code",
   "execution_count": 3,
   "metadata": {},
   "outputs": [
    {
     "name": "stdout",
     "output_type": "stream",
     "text": [
      "이미지 디렉토리 경로:  /home/ssac29/aiffel/friends_list/rock_scissor_paper_Hong_gahee/rock\n",
      "바위 이미지 resize 완료!\n",
      "이미지 디렉토리 경로:  /home/ssac29/aiffel/friends_list/rock_scissor_paper_Kim_Yonguk/rock\n",
      "바위 이미지 resize 완료!\n",
      "이미지 디렉토리 경로:  /home/ssac29/aiffel/friends_list/rock_scissor_paper_Jeong_Hyunjae/rock\n",
      "바위 이미지 resize 완료!\n",
      "이미지 디렉토리 경로:  /home/ssac29/aiffel/friends_list/rock_scissor_paper_Kim_Bogeoung/rock\n",
      "바위 이미지 resize 완료!\n",
      "이미지 디렉토리 경로:  /home/ssac29/aiffel/friends_list/rock_scissor_paper_Kim_Jeongsu/rock\n",
      "바위 이미지 resize 완료!\n",
      "이미지 디렉토리 경로:  /home/ssac29/aiffel/friends_list/rock_scissor_paper_Kim_jino/rock\n",
      "바위 이미지 resize 완료!\n",
      "이미지 디렉토리 경로:  /home/ssac29/aiffel/friends_list/rock_scissor_paper_Ko_Eunchae/rock\n",
      "바위 이미지 resize 완료!\n",
      "이미지 디렉토리 경로:  /home/ssac29/aiffel/friends_list/rock_scissor_paper_Song_yongho/rock\n",
      "바위 이미지 resize 완료!\n"
     ]
    }
   ],
   "source": [
    "# 바위 이미지가 저장된 디렉토리 아래의 모든 jpg 파일을 읽기\n",
    "\n",
    "folder_list_dir = os.getenv(\"HOME\") + \"/aiffel/friends_list/\"\n",
    "folder_list = os.listdir(folder_list_dir)\n",
    "\n",
    "for i in range(len(folder_list)):\n",
    "    image_dir_path = folder_list_dir + folder_list[i] + \"/rock\"\n",
    "    print(\"이미지 디렉토리 경로: \", image_dir_path)\n",
    "\n",
    "    images = glob.glob(image_dir_path + \"/*.jpg\")\n",
    "\n",
    "    # 파일마다 모두 28x28사이즈로 바꾸어 저장\n",
    "    target_size = (28,28)\n",
    "    for img in images:\n",
    "        old_img = Image.open(img)\n",
    "    \n",
    "        new_img = old_img.resize(target_size, Image.ANTIALIAS)\n",
    "        new_img.save(img, \"JPEG\")\n",
    "    \n",
    "    print(\"바위 이미지 resize 완료!\")\n",
    "    "
   ]
  },
  {
   "cell_type": "code",
   "execution_count": 4,
   "metadata": {},
   "outputs": [
    {
     "name": "stdout",
     "output_type": "stream",
     "text": [
      "이미지 디렉토리 경로:  /home/ssac29/aiffel/friends_list/rock_scissor_paper_Hong_gahee/paper\n",
      "보 이미지 resize 완료!\n",
      "이미지 디렉토리 경로:  /home/ssac29/aiffel/friends_list/rock_scissor_paper_Kim_Yonguk/paper\n",
      "보 이미지 resize 완료!\n",
      "이미지 디렉토리 경로:  /home/ssac29/aiffel/friends_list/rock_scissor_paper_Jeong_Hyunjae/paper\n",
      "보 이미지 resize 완료!\n",
      "이미지 디렉토리 경로:  /home/ssac29/aiffel/friends_list/rock_scissor_paper_Kim_Bogeoung/paper\n",
      "보 이미지 resize 완료!\n",
      "이미지 디렉토리 경로:  /home/ssac29/aiffel/friends_list/rock_scissor_paper_Kim_Jeongsu/paper\n",
      "보 이미지 resize 완료!\n",
      "이미지 디렉토리 경로:  /home/ssac29/aiffel/friends_list/rock_scissor_paper_Kim_jino/paper\n",
      "보 이미지 resize 완료!\n",
      "이미지 디렉토리 경로:  /home/ssac29/aiffel/friends_list/rock_scissor_paper_Ko_Eunchae/paper\n",
      "보 이미지 resize 완료!\n",
      "이미지 디렉토리 경로:  /home/ssac29/aiffel/friends_list/rock_scissor_paper_Song_yongho/paper\n",
      "보 이미지 resize 완료!\n"
     ]
    }
   ],
   "source": [
    "# 보 이미지가 저장된 디렉토리 아래의 모든 jpg 파일을 읽기\n",
    "\n",
    "folder_list_dir = os.getenv(\"HOME\") + \"/aiffel/friends_list/\"\n",
    "folder_list = os.listdir(folder_list_dir)\n",
    "\n",
    "for i in range(len(folder_list)):\n",
    "    image_dir_path = folder_list_dir + folder_list[i] + \"/paper\"\n",
    "    print(\"이미지 디렉토리 경로: \", image_dir_path)\n",
    "\n",
    "    images = glob.glob(image_dir_path + \"/*.jpg\")\n",
    "\n",
    "    # 파일마다 모두 28x28사이즈로 바꾸어 저장\n",
    "    target_size = (28,28)\n",
    "    for img in images:\n",
    "        old_img = Image.open(img)\n",
    "    \n",
    "        new_img = old_img.resize(target_size, Image.ANTIALIAS)\n",
    "        new_img.save(img, \"JPEG\")\n",
    "    \n",
    "    print(\"보 이미지 resize 완료!\")\n",
    "    "
   ]
  },
  {
   "cell_type": "code",
   "execution_count": 36,
   "metadata": {},
   "outputs": [],
   "source": [
    "# 특정 디렉토리에 있는 이미지 파일의 픽셀데이터 행렬로 불러오는 함수 작성\n",
    "\n",
    "def load_data(img_path, data_size):\n",
    "    # 가위 : 0, 바위 : 1, 보 : 2\n",
    "    number_of_data=data_size   # 가위바위보 이미지 개수 총합\n",
    "    img_size=28\n",
    "    color=3\n",
    "    #이미지 데이터와 라벨(가위 : 0, 바위 : 1, 보 : 2) 데이터를 담을 행렬(matrix) 영역을 생성합니다.\n",
    "    imgs=np.zeros(number_of_data*img_size*img_size*color,dtype=np.int32).reshape(number_of_data,img_size,img_size,color)\n",
    "    labels=np.zeros(number_of_data,dtype=np.int32)\n",
    "\n",
    "    idx=0\n",
    "    for file in glob.iglob(img_path+'/scissor/*.jpg'):\n",
    "        img = np.array(Image.open(file),dtype=np.int32)\n",
    "        imgs[idx,:,:,:]=img    # 데이터 영역에 이미지 행렬을 복사\n",
    "        labels[idx]=0   # 가위 : 0\n",
    "        idx=idx+1\n",
    "\n",
    "    for file in glob.iglob(img_path+'/rock/*.jpg'):\n",
    "        img = np.array(Image.open(file),dtype=np.int32)\n",
    "        imgs[idx,:,:,:]=img    # 데이터 영역에 이미지 행렬을 복사\n",
    "        labels[idx]=1   # 바위 : 1\n",
    "        idx=idx+1       \n",
    "    \n",
    "    for file in glob.iglob(img_path+'/paper/*.jpg'):\n",
    "        img = np.array(Image.open(file),dtype=np.int32)\n",
    "        imgs[idx,:,:,:]=img    # 데이터 영역에 이미지 행렬을 복사\n",
    "        labels[idx]=2   # 보 : 2\n",
    "        idx=idx+1\n",
    "\n",
    "    return imgs, labels\n"
   ]
  },
  {
   "cell_type": "code",
   "execution_count": 74,
   "metadata": {
    "scrolled": true
   },
   "outputs": [
    {
     "name": "stdout",
     "output_type": "stream",
     "text": [
      "8  명 \n",
      " ['rock_scissor_paper_Hong_gahee', 'rock_scissor_paper_Kim_Yonguk', 'rock_scissor_paper_Jeong_Hyunjae', 'rock_scissor_paper_Kim_Bogeoung', 'rock_scissor_paper_Kim_Jeongsu', 'rock_scissor_paper_Kim_jino', 'rock_scissor_paper_Ko_Eunchae', 'rock_scissor_paper_Song_yongho'] \n",
      "\n",
      "\n",
      "0  번째 사람 feature data shape :  (1, 300, 28, 28, 3)\n",
      "0  번째 사람 label data shape :  (1, 300)\n",
      "1  번째 사람 feature data shape :  (2, 300, 28, 28, 3)\n",
      "1  번째 사람 label data shape :  (2, 300)\n",
      "2  번째 사람 feature data shape :  (3, 300, 28, 28, 3)\n",
      "2  번째 사람 label data shape :  (3, 300)\n",
      "3  번째 사람 feature data shape :  (4, 300, 28, 28, 3)\n",
      "3  번째 사람 label data shape :  (4, 300)\n",
      "4  번째 사람 feature data shape :  (5, 300, 28, 28, 3)\n",
      "4  번째 사람 label data shape :  (5, 300)\n",
      "5  번째 사람 feature data shape :  (6, 300, 28, 28, 3)\n",
      "5  번째 사람 label data shape :  (6, 300)\n",
      "6  번째 사람 feature data shape :  (7, 300, 28, 28, 3)\n",
      "6  번째 사람 label data shape :  (7, 300)\n",
      "7  번째 사람 feature data shape :  (8, 300, 28, 28, 3)\n",
      "7  번째 사람 label data shape :  (8, 300)\n",
      "\n",
      "\n",
      "기존 데이터 x_data shape :  (2400, 28, 28, 3)\n",
      "기존 데이터 y_data shape :  (2400,)\n",
      "추가 데이터 x_data shape :  (3600, 28, 28, 3)\n",
      "추가 데이터 y_data shape :  (3600,)\n",
      "병합 데이터 x_data shape :  (6000, 28, 28, 3)\n",
      "병합 데이터 y_data shape :  (6000,) \n",
      "\n",
      "\n"
     ]
    }
   ],
   "source": [
    "# 데이터셋 모으기\n",
    "\n",
    "# 폴더별로 돌면서 load_data()결과 누적\n",
    "\n",
    "folder_list_dir = os.getenv(\"HOME\") + \"/aiffel/friends_list/\"\n",
    "folder_list = os.listdir(folder_list_dir)\n",
    "print(len(folder_list), \" 명\", \"\\n\" , folder_list, \"\\n\\n\")\n",
    "\n",
    "x_data, y_data = [], []\n",
    "for i in range(len(folder_list)):\n",
    "    image_path = folder_list_dir + folder_list[i]\n",
    "    # 각 사람들 폴더를 돌며 트레인셋 모음 생성\n",
    "    x_data.append(load_data(image_path, 300)[0])\n",
    "    print(i, \" 번째 사람 feature data shape : \", np.array(x_data).shape)\n",
    "    y_data.append(load_data(image_path, 300)[1])\n",
    "    print(i, \" 번째 사람 label data shape : \", np.array(y_data).shape)\n",
    "\n",
    "print(\"\\n\")\n",
    "x_data = np.reshape(np.array(x_data), (2400, 28, 28, 3))\n",
    "print(\"기존 데이터 x_data shape : \", x_data.shape)\n",
    "y_data = np.reshape(np.array(y_data), (2400))\n",
    "print(\"기존 데이터 y_data shape : \", y_data.shape)\n",
    "\n",
    "\n",
    "# 3600개 merged 데이터셋 추가\n",
    "\n",
    "x_data_down = load_data(os.getenv(\"HOME\") + \"aiffel/rock_scissor_paper/rock_scissor_paper_down\", 3600)[0]\n",
    "y_data_down = load_data(os.getenv(\"HOME\") + \"aiffel/rock_scissor_paper/rock_scissor_paper_down\", 3600)[1]\n",
    "print(\"추가 데이터 x_data shape : \", np.array(x_data_down).shape)\n",
    "print(\"추가 데이터 y_data shape : \", np.array(y_data_down).shape)\n",
    "\n",
    "\n",
    "# 기존 데이터 2400개와 새로운 데이터 3600개 합치기\n",
    "\n",
    "x_data = np.concatenate((x_data, x_data_down), axis=0)\n",
    "print(\"병합 데이터 x_data shape : \", x_data.shape)\n",
    "y_data = np.concatenate((y_data, y_data_down), axis=0)\n",
    "print(\"병합 데이터 y_data shape : \", y_data.shape, \"\\n\\n\")"
   ]
  },
  {
   "cell_type": "code",
   "execution_count": null,
   "metadata": {},
   "outputs": [],
   "source": [
    "# 데이터셋 모음으로부터 트레이닝셋, 테스트셋 나누기  (일단 랜덤말고 순서대로 정해진 갯수만큼씩 나누기)\n",
    "\n",
    "\n",
    "from sklearn.model_selection import train_test_split\n",
    "\n",
    "x_train, x_test, y_train, y_test = train_test_split(x_data, \n",
    "                                                    y_data, \n",
    "                                                    test_size=0.2, \n",
    "                                                    random_state=7)\n",
    "\n",
    "print('x_train 개수: ', len(x_train), ', x_test 개수: ', len(x_test))\n",
    "\n",
    "\n",
    "x_train_norm = x_train/255.0   # 입력은 0~1 사이의 값으로 정규화"
   ]
  },
  {
   "cell_type": "code",
   "execution_count": 63,
   "metadata": {
    "scrolled": true
   },
   "outputs": [
    {
     "name": "stdout",
     "output_type": "stream",
     "text": [
      "라벨:  1\n",
      "[[[ 53  50  31]\n",
      "  [ 63  62  44]\n",
      "  [ 80  81  65]\n",
      "  ...\n",
      "  [124 130 126]\n",
      "  [128 134 130]\n",
      "  [132 139 132]]\n",
      "\n",
      " [[ 54  47  31]\n",
      "  [ 67  61  47]\n",
      "  [102 100  87]\n",
      "  ...\n",
      "  [115 121 117]\n",
      "  [119 125 121]\n",
      "  [123 130 123]]\n",
      "\n",
      " [[ 54  41  32]\n",
      "  [ 97  87  78]\n",
      "  [133 126 116]\n",
      "  ...\n",
      "  [115 121 117]\n",
      "  [118 124 120]\n",
      "  [121 127 123]]\n",
      "\n",
      " ...\n",
      "\n",
      " [[243 255 255]\n",
      "  [242 254 254]\n",
      "  [241 253 253]\n",
      "  ...\n",
      "  [ 60  64  65]\n",
      "  [ 57  61  62]\n",
      "  [ 55  59  60]]\n",
      "\n",
      " [[239 253 253]\n",
      "  [236 250 250]\n",
      "  [229 243 243]\n",
      "  ...\n",
      "  [ 60  64  65]\n",
      "  [ 57  61  62]\n",
      "  [ 55  59  60]]\n",
      "\n",
      " [[224 240 239]\n",
      "  [226 242 241]\n",
      "  [224 240 239]\n",
      "  ...\n",
      "  [ 60  64  65]\n",
      "  [ 57  61  62]\n",
      "  [ 55  59  60]]]\n"
     ]
    },
    {
     "data": {
      "image/png": "[encoded data removed]",
      "text/plain": [
       "<Figure size 432x288 with 1 Axes>"
      ]
     },
     "metadata": {
      "needs_background": "light"
     },
     "output_type": "display_data"
    }
   ],
   "source": [
    "# 데이터 확인\n",
    "\n",
    "plt.imshow(x_train[3432])\n",
    "print('라벨: ', y_train[3432])\n",
    "print(x_train[3432])\n"
   ]
  },
  {
   "cell_type": "code",
   "execution_count": 64,
   "metadata": {},
   "outputs": [
    {
     "name": "stdout",
     "output_type": "stream",
     "text": [
      "Model: \"sequential_6\"\n",
      "_________________________________________________________________\n",
      "Layer (type)                 Output Shape              Param #   \n",
      "=================================================================\n",
      "conv2d_12 (Conv2D)           (None, 26, 26, 16)        448       \n",
      "_________________________________________________________________\n",
      "max_pooling2d_12 (MaxPooling (None, 13, 13, 16)        0         \n",
      "_________________________________________________________________\n",
      "conv2d_13 (Conv2D)           (None, 11, 11, 32)        4640      \n",
      "_________________________________________________________________\n",
      "max_pooling2d_13 (MaxPooling (None, 5, 5, 32)          0         \n",
      "_________________________________________________________________\n",
      "flatten_6 (Flatten)          (None, 800)               0         \n",
      "_________________________________________________________________\n",
      "dense_12 (Dense)             (None, 64)                51264     \n",
      "_________________________________________________________________\n",
      "dense_13 (Dense)             (None, 3)                 195       \n",
      "=================================================================\n",
      "Total params: 56,547\n",
      "Trainable params: 56,547\n",
      "Non-trainable params: 0\n",
      "_________________________________________________________________\n"
     ]
    }
   ],
   "source": [
    "# 학습모델 생성\n",
    "\n",
    "n_channel_1=16\n",
    "n_channel_2=32\n",
    "n_dense=64\n",
    "n_train_epoch=20\n",
    "\n",
    "model=keras.models.Sequential()\n",
    "model.add(keras.layers.Conv2D(n_channel_1, (3,3), activation='relu', input_shape=(28,28,3)))\n",
    "model.add(keras.layers.MaxPool2D(2,2))\n",
    "model.add(keras.layers.Conv2D(n_channel_2, (3,3), activation='relu'))\n",
    "model.add(keras.layers.MaxPooling2D((2,2)))\n",
    "model.add(keras.layers.Flatten())\n",
    "model.add(keras.layers.Dense(n_dense, activation='relu'))\n",
    "model.add(keras.layers.Dense(3, activation='softmax'))\n",
    "\n",
    "model.summary()"
   ]
  },
  {
   "cell_type": "code",
   "execution_count": 65,
   "metadata": {
    "scrolled": true
   },
   "outputs": [
    {
     "name": "stdout",
     "output_type": "stream",
     "text": [
      "Epoch 1/20\n",
      "150/150 [==============================] - 0s 1ms/step - loss: 0.5167 - accuracy: 0.7929\n",
      "Epoch 2/20\n",
      "150/150 [==============================] - 0s 1ms/step - loss: 0.2580 - accuracy: 0.8977\n",
      "Epoch 3/20\n",
      "150/150 [==============================] - 0s 1ms/step - loss: 0.1595 - accuracy: 0.9406\n",
      "Epoch 4/20\n",
      "150/150 [==============================] - 0s 1ms/step - loss: 0.1109 - accuracy: 0.9594\n",
      "Epoch 5/20\n",
      "150/150 [==============================] - 0s 1ms/step - loss: 0.0738 - accuracy: 0.9746\n",
      "Epoch 6/20\n",
      "150/150 [==============================] - 0s 1ms/step - loss: 0.0569 - accuracy: 0.9821\n",
      "Epoch 7/20\n",
      "150/150 [==============================] - 0s 1ms/step - loss: 0.0351 - accuracy: 0.9898\n",
      "Epoch 8/20\n",
      "150/150 [==============================] - 0s 1ms/step - loss: 0.0311 - accuracy: 0.9910\n",
      "Epoch 9/20\n",
      "150/150 [==============================] - 0s 1ms/step - loss: 0.0192 - accuracy: 0.9952\n",
      "Epoch 10/20\n",
      "150/150 [==============================] - 0s 1ms/step - loss: 0.0127 - accuracy: 0.9971\n",
      "Epoch 11/20\n",
      "150/150 [==============================] - 0s 1ms/step - loss: 0.0106 - accuracy: 0.9975\n",
      "Epoch 12/20\n",
      "150/150 [==============================] - 0s 1ms/step - loss: 0.0058 - accuracy: 0.9996\n",
      "Epoch 13/20\n",
      "150/150 [==============================] - 0s 1ms/step - loss: 0.0037 - accuracy: 0.9998\n",
      "Epoch 14/20\n",
      "150/150 [==============================] - 0s 1ms/step - loss: 0.0031 - accuracy: 0.9998\n",
      "Epoch 15/20\n",
      "150/150 [==============================] - 0s 1ms/step - loss: 0.0019 - accuracy: 1.0000\n",
      "Epoch 16/20\n",
      "150/150 [==============================] - 0s 1ms/step - loss: 0.0012 - accuracy: 1.0000\n",
      "Epoch 17/20\n",
      "150/150 [==============================] - 0s 1ms/step - loss: 9.8807e-04 - accuracy: 1.0000\n",
      "Epoch 18/20\n",
      "150/150 [==============================] - 0s 2ms/step - loss: 7.7578e-04 - accuracy: 1.0000\n",
      "Epoch 19/20\n",
      "150/150 [==============================] - 0s 2ms/step - loss: 6.5220e-04 - accuracy: 1.0000\n",
      "Epoch 20/20\n",
      "150/150 [==============================] - 0s 1ms/step - loss: 5.3371e-04 - accuracy: 1.0000\n"
     ]
    },
    {
     "data": {
      "text/plain": [
       "<tensorflow.python.keras.callbacks.History at 0x7f2970039650>"
      ]
     },
     "execution_count": 65,
     "metadata": {},
     "output_type": "execute_result"
    }
   ],
   "source": [
    "# 모델 컴파일\n",
    "model.compile(optimizer='adam',\n",
    "             loss='sparse_categorical_crossentropy',\n",
    "             metrics=['accuracy'])\n",
    "\n",
    "# 모델 훈련\n",
    "model.fit(x_train_norm, y_train, epochs=n_train_epoch)\n"
   ]
  },
  {
   "cell_type": "code",
   "execution_count": 70,
   "metadata": {
    "scrolled": true
   },
   "outputs": [
    {
     "name": "stdout",
     "output_type": "stream",
     "text": [
      "라벨:  2\n"
     ]
    },
    {
     "data": {
      "image/png": "[encoded data removed]",
      "text/plain": [
       "<Figure size 432x288 with 1 Axes>"
      ]
     },
     "metadata": {
      "needs_background": "light"
     },
     "output_type": "display_data"
    }
   ],
   "source": [
    "plt.imshow(x_test[125])\n",
    "print('라벨: ', y_test[125])"
   ]
  },
  {
   "cell_type": "code",
   "execution_count": 71,
   "metadata": {
    "scrolled": true
   },
   "outputs": [
    {
     "name": "stdout",
     "output_type": "stream",
     "text": [
      "38/38 - 0s - loss: 35.0176 - accuracy: 0.9517\n",
      "test_loss: 35.0175895690918 \n",
      "test_accuracy: 0.9516666531562805\n"
     ]
    }
   ],
   "source": [
    "# 모델 평가\n",
    "\n",
    "test_loss, test_accuracy = model.evaluate(x_test, y_test, verbose=2)\n",
    "print(\"test_loss: {} \".format(test_loss))\n",
    "print(\"test_accuracy: {}\".format(test_accuracy))"
   ]
  }
 ],
 "metadata": {
  "kernelspec": {
   "display_name": "Python 3",
   "language": "python",
   "name": "python3"
  },
  "language_info": {
   "codemirror_mode": {
    "name": "ipython",
    "version": 3
   },
   "file_extension": ".py",
   "mimetype": "text/x-python",
   "name": "python",
   "nbconvert_exporter": "python",
   "pygments_lexer": "ipython3",
   "version": "3.7.9"
  }
 },
 "nbformat": 4,
 "nbformat_minor": 4
}
